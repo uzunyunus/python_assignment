{
 "metadata": {
  "language_info": {
   "codemirror_mode": {
    "name": "ipython",
    "version": 3
   },
   "file_extension": ".py",
   "mimetype": "text/x-python",
   "name": "python",
   "nbconvert_exporter": "python",
   "pygments_lexer": "ipython3",
   "version": "3.9.2"
  },
  "orig_nbformat": 2,
  "kernelspec": {
   "name": "python392jvsc74a57bd046f4c0da1529853cc4bd591e7c836f32aa74065b1d4bf61852c5db2d35a435e1",
   "display_name": "Python 3.9.2 64-bit"
  },
  "metadata": {
   "interpreter": {
    "hash": "46f4c0da1529853cc4bd591e7c836f32aa74065b1d4bf61852c5db2d35a435e1"
   }
  }
 },
 "nbformat": 4,
 "nbformat_minor": 2,
 "cells": [
  {
   "cell_type": "code",
   "execution_count": 10,
   "metadata": {},
   "outputs": [
    {
     "output_type": "stream",
     "name": "stdout",
     "text": [
      "Hello,  Veli̇ ! See you later\n"
     ]
    }
   ],
   "source": [
    "real_name = \"Yunus\"\n",
    "real_name_pass = \"QWERTCVD6547\"\n",
    "input_name = input(\"Enter your name : \")\n",
    "if real_name == input_name.capitalize():\n",
    "    print(\"Hello,\", input_name.capitalize(), \"! Your password is : \", real_name_pass)\n",
    "else:\n",
    "    print(\"Hello, \", input_name.capitalize(), \"! See you later\")"
   ]
  },
  {
   "cell_type": "code",
   "execution_count": null,
   "metadata": {},
   "outputs": [],
   "source": []
  }
 ]
}